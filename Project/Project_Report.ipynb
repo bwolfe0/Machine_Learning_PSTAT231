{
 "cells": [
  {
   "cell_type": "code",
   "execution_count": 1,
   "metadata": {},
   "outputs": [],
   "source": [
    "import numpy as np\n",
    "import pandas as pd"
   ]
  },
  {
   "cell_type": "code",
   "execution_count": 3,
   "metadata": {},
   "outputs": [
    {
     "name": "stdout",
     "output_type": "stream",
     "text": [
      "count    70.000000\n",
      "mean     49.271429\n",
      "std      28.983714\n",
      "min       0.000000\n",
      "25%      25.250000\n",
      "50%      49.500000\n",
      "75%      72.750000\n",
      "max      97.000000\n",
      "Name: target, dtype: float64\n",
      "count    30.000000\n",
      "mean     50.033333\n",
      "std      29.565221\n",
      "min       3.000000\n",
      "25%      24.750000\n",
      "50%      49.500000\n",
      "75%      76.750000\n",
      "max      99.000000\n",
      "Name: target, dtype: float64\n"
     ]
    }
   ],
   "source": [
    "import pandas as pd\n",
    "from sklearn.model_selection import train_test_split\n",
    "\n",
    "# Sample data\n",
    "data = pd.DataFrame({\n",
    "    'features': range(100),\n",
    "    'target': range(100)\n",
    "})\n",
    "\n",
    "# Divide the target variable into quantiles\n",
    "data['target_quantiles'] = pd.qcut(data['target'], q=10, labels=False)\n",
    "\n",
    "# Split the data using the quantiles for stratification\n",
    "X_train, X_test, y_train, y_test = train_test_split(\n",
    "    data[['features']],\n",
    "    data['target'],\n",
    "    stratify=data['target_quantiles'],\n",
    "    test_size=0.3,\n",
    "    random_state=42\n",
    ")\n",
    "\n",
    "# Check the distribution in the train and test sets\n",
    "print(y_train.describe())\n",
    "print(y_test.describe())\n"
   ]
  },
  {
   "cell_type": "code",
   "execution_count": null,
   "metadata": {},
   "outputs": [],
   "source": []
  }
 ],
 "metadata": {
  "kernelspec": {
   "display_name": ".venv",
   "language": "python",
   "name": "python3"
  },
  "language_info": {
   "codemirror_mode": {
    "name": "ipython",
    "version": 3
   },
   "file_extension": ".py",
   "mimetype": "text/x-python",
   "name": "python",
   "nbconvert_exporter": "python",
   "pygments_lexer": "ipython3",
   "version": "3.10.2"
  }
 },
 "nbformat": 4,
 "nbformat_minor": 2
}
